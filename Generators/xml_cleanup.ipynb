{
 "cells": [
  {
   "cell_type": "code",
   "execution_count": 1,
   "metadata": {},
   "outputs": [],
   "source": [
    "import xml.etree.ElementTree as ET\n",
    "\n",
    "def clean_xml(file_path):\n",
    "    \"\"\"\n",
    "    Reads an XML file, removes unwanted characters, and writes the cleaned XML back to the file.\n",
    "    \"\"\"\n",
    "    # Define the set of allowed characters\n",
    "    allowed_chars = set(\"abcdefghijklmnopqrstuvwxyzABCDEFGHIJKLMNOPQRSTUVWXYZ0123456789 .,!?'-\")\n",
    "\n",
    "    def filter_text(text):\n",
    "        return ''.join(c for c in text if c in allowed_chars)\n",
    "\n",
    "    tree = ET.parse(file_path)\n",
    "    root = tree.getroot()\n",
    "\n",
    "    for elem in root.iter():\n",
    "        if elem.text:\n",
    "            elem.text = filter_text(elem.text)\n",
    "        if elem.tail:\n",
    "            elem.tail = filter_text(elem.tail)\n",
    "        for attr in elem.attrib:\n",
    "            elem.attrib[attr] = filter_text(elem.attrib[attr])\n",
    "\n",
    "    tree.write(file_path, encoding='ISO-8859-1', xml_declaration=True)\n",
    "\n",
    "# Example usage:\n",
    "file_path = \"C:/Users/shouv/Desktop/Research/NIST/Second_round/Summaries/summaries.xml\"\n",
    "clean_xml(file_path)\n"
   ]
  }
 ],
 "metadata": {
  "kernelspec": {
   "display_name": "Python 3",
   "language": "python",
   "name": "python3"
  },
  "language_info": {
   "codemirror_mode": {
    "name": "ipython",
    "version": 3
   },
   "file_extension": ".py",
   "mimetype": "text/x-python",
   "name": "python",
   "nbconvert_exporter": "python",
   "pygments_lexer": "ipython3",
   "version": "3.12.4"
  }
 },
 "nbformat": 4,
 "nbformat_minor": 2
}
